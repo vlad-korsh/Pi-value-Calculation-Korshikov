{
  "nbformat": 4,
  "nbformat_minor": 0,
  "metadata": {
    "colab": {
      "name": "Pi_calculation.ipynb",
      "provenance": [],
      "collapsed_sections": []
    },
    "kernelspec": {
      "name": "python3",
      "display_name": "Python 3"
    },
    "language_info": {
      "name": "python"
    },
    "accelerator": "GPU"
  },
  "cells": [
    {
      "cell_type": "markdown",
      "source": [
        "Импортируем библиотеки"
      ],
      "metadata": {
        "id": "H6vo1UK01Qb1"
      }
    },
    {
      "cell_type": "code",
      "source": [
        "import numpy as np\n",
        "import time\n",
        "import random\n",
        "!pip install pycuda\n",
        "import pycuda.autoinit\n",
        "import pycuda.gpuarray as gpuarray\n",
        "from pycuda.curandom import rand as curandom\n",
        "from pycuda import driver as dr\n",
        "from pycuda.compiler import SourceModule"
      ],
      "metadata": {
        "colab": {
          "base_uri": "https://localhost:8080/"
        },
        "id": "XwawnM1G1L2e",
        "outputId": "1c5934d0-406c-4756-c521-97f007b7f8a2"
      },
      "execution_count": 6,
      "outputs": [
        {
          "output_type": "stream",
          "name": "stdout",
          "text": [
            "Requirement already satisfied: pycuda in /usr/local/lib/python3.7/dist-packages (2021.1)\n",
            "Requirement already satisfied: appdirs>=1.4.0 in /usr/local/lib/python3.7/dist-packages (from pycuda) (1.4.4)\n",
            "Requirement already satisfied: mako in /usr/local/lib/python3.7/dist-packages (from pycuda) (1.1.6)\n",
            "Requirement already satisfied: pytools>=2011.2 in /usr/local/lib/python3.7/dist-packages (from pycuda) (2021.2.9)\n",
            "Requirement already satisfied: numpy>=1.6.0 in /usr/local/lib/python3.7/dist-packages (from pytools>=2011.2->pycuda) (1.19.5)\n",
            "Requirement already satisfied: MarkupSafe>=0.9.2 in /usr/local/lib/python3.7/dist-packages (from mako->pycuda) (2.0.1)\n"
          ]
        }
      ]
    },
    {
      "cell_type": "markdown",
      "source": [
        "Зададим количество элементов после запятой"
      ],
      "metadata": {
        "id": "iAcAGY56uv64"
      }
    },
    {
      "cell_type": "code",
      "source": [
        "N = 100000"
      ],
      "metadata": {
        "id": "ZCAbiAowuuo3"
      },
      "execution_count": 7,
      "outputs": []
    },
    {
      "cell_type": "markdown",
      "source": [
        "Зададим функцию для выполнения на ядре"
      ],
      "metadata": {
        "id": "ZRGBKTAVvHsi"
      }
    },
    {
      "cell_type": "code",
      "source": [
        "kernel = SourceModule(\n",
        "    \"\"\"\n",
        "    __global__ void foundpi(double *x, double *y, int *points_in_circle, const int N){\n",
        "        int j = blockIdx.x * blockDim.x + threadIdx.x;\n",
        "        int c = 0;\n",
        "        for (int i = j; i < N; i += gridDim.x * blockDim.x) {\n",
        "            if (x[i]*x[i] + y[i]*y[i] <= 1) {\n",
        "            c+=1;\n",
        "            }\n",
        "        }\n",
        "        atomicAdd(points_in_circle, c);\n",
        "    }\n",
        "    \"\"\")"
      ],
      "metadata": {
        "id": "2EnK62UevMGQ"
      },
      "execution_count": 8,
      "outputs": []
    },
    {
      "cell_type": "markdown",
      "source": [
        "Зададим функцию, которая будет проводить рассчёты числа Pi методом Монте-Карло на CPU и GPU, а также выводить все необходимые метрики"
      ],
      "metadata": {
        "id": "5lDV21Tp1jhE"
      }
    },
    {
      "cell_type": "markdown",
      "source": [
        "<!-- Используем N - количество чисел после запятой, чтобы определить количество раз, сколько необходимо исполнить цикл для вычисления числа pi. В этой же функции пропишем реализацию вычислений на CPU и GPU соответственно -->"
      ],
      "metadata": {
        "id": "UJ1c5TJEvg9u"
      }
    },
    {
      "cell_type": "code",
      "source": [
        "def main():\n",
        "    print(N)\n",
        "    start_time = time.time()\n",
        "    points_in_circle = 0\n",
        "    x = np.zeros((N, 1))\n",
        "    y = np.zeros((N, 1))\n",
        "    for i in range(N):\n",
        "        x[i] = random.uniform(-1, 1)\n",
        "        y[i] = random.uniform(-1, 1)\n",
        "\n",
        "    for i in range(N):\n",
        "        if x[i] ** 2 + y[i] ** 2 <= 1:\n",
        "            points_in_circle = points_in_circle + 1\n",
        "\n",
        "    pi = 4 * points_in_circle / N\n",
        "    end_time = time.time()\n",
        "    t = end_time - start_time\n",
        "    err = np.abs(np.pi - pi)\n",
        "    print(pi)\n",
        "    print('Cpu time: ', t, '. Error: ', err)\n",
        "\n",
        "    start_time = time.time()\n",
        "    gpu_points_in_circle = gpuarray.zeros((1,), dtype=np.int32)\n",
        "    gpu_points_in_circle = gpu_points_in_circle.get()\n",
        "\n",
        "    gpu_x = curandom((N,), dtype=np.double).get().astype(np.double)\n",
        "    gpu_y = curandom((N,), dtype=np.double).get().astype(np.double)\n",
        "    pi_calc = kernel.get_function(\"foundpi\")\n",
        "    pi_calc(dr.In(gpu_x), dr.In(gpu_y), dr.Out(gpu_points_in_circle), np.int32(N), block=(128, 1, 1),\n",
        "            grid=(int(N / (128 ** 2)), 1))\n",
        "    dr.Context.synchronize()\n",
        "\n",
        "    gpu_pi = 4 * gpu_points_in_circle[0] / N\n",
        "    end_time = time.time()\n",
        "    gpu_t = end_time - start_time\n",
        "    gpu_err = np.abs(np.pi - gpu_pi)\n",
        "    print(gpu_pi)\n",
        "    print('Gpu time: ', gpu_t, '. Error: ', gpu_err)\n",
        "\n",
        "    print('T(cpu)/T(gpu): ')\n",
        "    print(t / gpu_t)"
      ],
      "metadata": {
        "id": "rJ2yFsLsv4S-"
      },
      "execution_count": 11,
      "outputs": []
    },
    {
      "cell_type": "markdown",
      "source": [
        "Запустим заданную функцию"
      ],
      "metadata": {
        "id": "JgsWzE_7xiYM"
      }
    },
    {
      "cell_type": "code",
      "source": [
        "if __name__ == '__main__':\n",
        "    main()"
      ],
      "metadata": {
        "colab": {
          "base_uri": "https://localhost:8080/"
        },
        "id": "vcN1MP17xlV0",
        "outputId": "80d70873-9368-4ce0-a639-f9327f1ee111"
      },
      "execution_count": 12,
      "outputs": [
        {
          "output_type": "stream",
          "name": "stdout",
          "text": [
            "100000\n",
            "3.15328\n",
            "Cpu time:  0.5774550437927246 . Error:  0.011687346410206967\n",
            "3.13724\n",
            "Gpu time:  0.21803784370422363 . Error:  0.004352653589793309\n",
            "T(cpu)/T(gpu): \n",
            "2.648416595864265\n"
          ]
        }
      ]
    }
  ]
}